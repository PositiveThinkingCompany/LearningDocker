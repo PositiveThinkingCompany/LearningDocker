{
 "cells": [
  {
   "cell_type": "markdown",
   "metadata": {},
   "source": [
    "# Docker Demo with .NET Interactive plugin for VS Code\n",
    "\n",
    "This document shows an example of how to work with Docker from a .NET Client.  \n",
    "\n",
    "More info on .NET Interactive : [link](https://github.com/dotnet/interactive)\n",
    "Install the extension from the Marketplace [link](https://marketplace.visualstudio.com/items?itemName=ms-dotnettools.dotnet-interactive-vscode)"
   ]
  },
  {
   "cell_type": "markdown",
   "metadata": {},
   "source": [
    "Some setup code not related to Docker  \n",
    "We import morelinq for the ForEach enumerator on IEnumerable.  \n",
    "Normally only  List<> has this operator."
   ]
  },
  {
   "cell_type": "code",
   "execution_count": 1,
   "metadata": {},
   "source": [
    "#r \"nuget:morelinq\"\n",
    "using MoreLinq;\n",
    "\n",
    "//Can't define extentions methods in nested static class, so this doesn't work in cell\n",
    "// public static class StringExtensions\n",
    "// {\n",
    "//     public static void Print(this object obj)\n",
    "//     {\n",
    "//         Console.WriteLine(obj);\n",
    "//     }\n",
    "// }\n",
    ""
   ],
   "outputs": []
  },
  {
   "cell_type": "markdown",
   "metadata": {},
   "source": [
    "Import the Docker .NET client  nuget package and setup the namespaces"
   ]
  },
  {
   "cell_type": "code",
   "execution_count": 1,
   "metadata": {},
   "source": [
    "#r \"nuget:Docker.DotNet\"\n",
    "using Docker.DotNet;\n",
    "using Docker.DotNet.Models;"
   ],
   "outputs": []
  },
  {
   "cell_type": "code",
   "execution_count": 1,
   "metadata": {},
   "source": [
    "DockerClient client = new DockerClientConfiguration()\n",
    "     .CreateClient();"
   ],
   "outputs": []
  },
  {
   "cell_type": "code",
   "execution_count": 1,
   "metadata": {},
   "source": [
    "var version = await client.System.GetVersionAsync();\n",
    "Console.WriteLine(version.Os);\n",
    "Console.WriteLine(version.KernelVersion);\n",
    "Console.WriteLine(version.Version);\n",
    "Console.WriteLine(version.Experimental);"
   ],
   "outputs": [
    {
     "output_type": "execute_result",
     "data": {
      "text/plain": "windows\r\n"
     },
     "execution_count": 1,
     "metadata": {}
    },
    {
     "output_type": "execute_result",
     "data": {
      "text/plain": "10.0 19041 (19041.1.amd64fre.vb_release.191206-1406)\r\n"
     },
     "execution_count": 1,
     "metadata": {}
    },
    {
     "output_type": "execute_result",
     "data": {
      "text/plain": "19.03.13\r\n"
     },
     "execution_count": 1,
     "metadata": {}
    },
    {
     "output_type": "execute_result",
     "data": {
      "text/plain": "True\r\n"
     },
     "execution_count": 1,
     "metadata": {}
    }
   ]
  },
  {
   "cell_type": "code",
   "execution_count": 1,
   "metadata": {},
   "source": [
    "var containers = await client.Containers.ListContainersAsync(new ContainersListParameters(){\n",
    "    Limit = 10,\n",
    "});\n",
    "containers.ForEach(c => Console.WriteLine(c.Names.First()));"
   ],
   "outputs": [
    {
     "output_type": "execute_result",
     "data": {
      "text/plain": "/demodb\r\n"
     },
     "execution_count": 1,
     "metadata": {}
    }
   ]
  },
  {
   "cell_type": "code",
   "execution_count": 1,
   "metadata": {},
   "source": [
    "#!lsmagic"
   ],
   "outputs": [
    {
     "output_type": "execute_result",
     "data": {
      "text/html": "<div><h3>.NET kernel</h3><div><div style=\"text-indent:1,5em\"><pre><span style=\"text-indent:1,5em; color:#512bd4\">#!csharp</span><span style=\"text-indent:1,5em; color:darkgray\">, </span><span style=\"text-indent:1,5em; color:#512bd4\">#!c#</span><span style=\"text-indent:1,5em; color:darkgray\">, </span><span style=\"text-indent:1,5em; color:#512bd4\">#!C#</span></pre><div style=\"text-indent:3em\">Run the code that follows using the csharp kernel.</div></div><div style=\"text-indent:1,5em\"><pre><span style=\"text-indent:1,5em; color:#512bd4\">#!fsharp</span><span style=\"text-indent:1,5em; color:darkgray\">, </span><span style=\"text-indent:1,5em; color:#512bd4\">#!f#</span><span style=\"text-indent:1,5em; color:darkgray\">, </span><span style=\"text-indent:1,5em; color:#512bd4\">#!F#</span></pre><div style=\"text-indent:3em\">Run the code that follows using the fsharp kernel.</div></div><div style=\"text-indent:1,5em\"><pre><span style=\"text-indent:1,5em; color:#512bd4\">#!pwsh</span><span style=\"text-indent:1,5em; color:darkgray\">, </span><span style=\"text-indent:1,5em; color:#512bd4\">#!powershell</span></pre><div style=\"text-indent:3em\">Run the code that follows using the pwsh kernel.</div></div><div style=\"text-indent:1,5em\"><pre><span style=\"text-indent:1,5em; color:#512bd4\">#!javascript</span><span style=\"text-indent:1,5em; color:darkgray\">, </span><span style=\"text-indent:1,5em; color:#512bd4\">#!js</span></pre><div style=\"text-indent:3em\">Run the code that follows using the javascript kernel.</div></div><div style=\"text-indent:1,5em\"><pre><span style=\"text-indent:1,5em; color:#512bd4\">#!html</span></pre><div style=\"text-indent:3em\">Run the code that follows using the html kernel.</div></div><div style=\"text-indent:1,5em\"><pre><span style=\"text-indent:1,5em; color:#512bd4\">#!value</span></pre><div style=\"text-indent:3em\">Stores a value that can then be shared with other subkernels.</div></div><div style=\"text-indent:1,5em\"><pre><span style=\"text-indent:1,5em; color:#512bd4\">#!lsmagic</span></pre><div style=\"text-indent:3em\">List the available magic commands / directives</div></div><div style=\"text-indent:1,5em\"><pre><span style=\"text-indent:1,5em; color:#512bd4\">#!markdown</span></pre><div style=\"text-indent:3em\">Convert the code that follows from Markdown into HTML</div></div><div style=\"text-indent:1,5em\"><pre><span style=\"text-indent:1,5em; color:#512bd4\">#!time</span></pre><div style=\"text-indent:3em\">Time the execution of the following code in the submission.</div></div><div style=\"text-indent:1,5em\"><pre><span style=\"text-indent:1,5em; color:#512bd4\">#!log</span></pre><div style=\"text-indent:3em\">Enables session logging.</div></div><div style=\"text-indent:1,5em\"><pre><span style=\"text-indent:1,5em; color:#512bd4\">#!about</span></pre><div style=\"text-indent:3em\">Show version and build information</div></div><div style=\"text-indent:1,5em\"><pre><span style=\"text-indent:1,5em; color:#512bd4\">#!connect</span></pre><div style=\"text-indent:3em\">Connects additional subkernels</div><div style=\"text-indent:3em\"><pre><span style=\"text-indent:4,5em; color:#512bd4\">named-pipe</span></pre><div style=\"text-indent:6em\">Connects to a kernel using named pipes</div></div><div style=\"text-indent:3em\"><pre><span style=\"text-indent:4,5em; color:#512bd4\">signalr</span></pre><div style=\"text-indent:6em\">Connects to a kernel using SignalR</div></div></div></div></div>"
     },
     "execution_count": 1,
     "metadata": {}
    },
    {
     "output_type": "execute_result",
     "data": {
      "text/html": "<div><h3>csharp kernel</h3><div><div style=\"text-indent:1,5em\"><pre><span style=\"text-indent:1,5em; color:#512bd4\">#i</span></pre><div style=\"text-indent:3em\"><div class=\"dni-plaintext\">&lt;null&gt;</div></div></div><div style=\"text-indent:1,5em\"><pre><span style=\"text-indent:1,5em; color:#512bd4\">#r</span></pre><div style=\"text-indent:3em\"><div class=\"dni-plaintext\">&lt;null&gt;</div></div></div><div style=\"text-indent:1,5em\"><pre><span style=\"text-indent:1,5em; color:#512bd4\">#!whos</span><span style=\"text-indent:1,5em; color:darkgray\">, </span><span style=\"text-indent:1,5em; color:#512bd4\">#!who</span></pre><div style=\"text-indent:3em\">Display the names of the current top-level variables and their values.</div></div><div style=\"text-indent:1,5em\"><pre><span style=\"text-indent:1,5em; color:#512bd4\">#!share</span></pre><div style=\"text-indent:3em\">Share a .NET variable between subkernels</div></div><div style=\"text-indent:1,5em\"><pre><span style=\"text-indent:1,5em; color:#512bd4\">#!lsmagic</span></pre><div style=\"text-indent:3em\">List the available magic commands / directives</div></div></div></div>"
     },
     "execution_count": 1,
     "metadata": {}
    },
    {
     "output_type": "execute_result",
     "data": {
      "text/html": "<div><h3>fsharp kernel</h3><div><div style=\"text-indent:1,5em\"><pre><span style=\"text-indent:1,5em; color:#512bd4\">#i</span></pre><div style=\"text-indent:3em\"><div class=\"dni-plaintext\">&lt;null&gt;</div></div></div><div style=\"text-indent:1,5em\"><pre><span style=\"text-indent:1,5em; color:#512bd4\">#r</span></pre><div style=\"text-indent:3em\"><div class=\"dni-plaintext\">&lt;null&gt;</div></div></div><div style=\"text-indent:1,5em\"><pre><span style=\"text-indent:1,5em; color:#512bd4\">#!whos</span><span style=\"text-indent:1,5em; color:darkgray\">, </span><span style=\"text-indent:1,5em; color:#512bd4\">#!who</span></pre><div style=\"text-indent:3em\">Display the names of the current top-level variables and their values.</div></div><div style=\"text-indent:1,5em\"><pre><span style=\"text-indent:1,5em; color:#512bd4\">#!share</span></pre><div style=\"text-indent:3em\">Share a .NET variable between subkernels</div></div><div style=\"text-indent:1,5em\"><pre><span style=\"text-indent:1,5em; color:#512bd4\">#!lsmagic</span></pre><div style=\"text-indent:3em\">List the available magic commands / directives</div></div></div></div>"
     },
     "execution_count": 1,
     "metadata": {}
    },
    {
     "output_type": "execute_result",
     "data": {
      "text/html": "<div><h3>pwsh kernel</h3><div><div style=\"text-indent:1,5em\"><pre><span style=\"text-indent:1,5em; color:#512bd4\">#!share</span></pre><div style=\"text-indent:3em\">Share a .NET variable between subkernels</div></div><div style=\"text-indent:1,5em\"><pre><span style=\"text-indent:1,5em; color:#512bd4\">#!lsmagic</span></pre><div style=\"text-indent:3em\">List the available magic commands / directives</div></div></div></div>"
     },
     "execution_count": 1,
     "metadata": {}
    },
    {
     "output_type": "execute_result",
     "data": {
      "text/html": "<div><h3>javascript kernel</h3><div><div style=\"text-indent:1,5em\"><pre><span style=\"text-indent:1,5em; color:#512bd4\">#!lsmagic</span></pre><div style=\"text-indent:3em\">List the available magic commands / directives</div></div></div></div>"
     },
     "execution_count": 1,
     "metadata": {}
    },
    {
     "output_type": "execute_result",
     "data": {
      "text/html": "<div><h3>html kernel</h3><div><div style=\"text-indent:1,5em\"><pre><span style=\"text-indent:1,5em; color:#512bd4\">#!lsmagic</span></pre><div style=\"text-indent:3em\">List the available magic commands / directives</div></div></div></div>"
     },
     "execution_count": 1,
     "metadata": {}
    },
    {
     "output_type": "execute_result",
     "data": {
      "text/html": "<div><h3>value kernel</h3><div><div style=\"text-indent:1,5em\"><pre><span style=\"text-indent:1,5em; color:#512bd4\">#!whos</span><span style=\"text-indent:1,5em; color:darkgray\">, </span><span style=\"text-indent:1,5em; color:#512bd4\">#!who</span></pre><div style=\"text-indent:3em\">Display the names of the current top-level variables and their values.</div></div><div style=\"text-indent:1,5em\"><pre><span style=\"text-indent:1,5em; color:#512bd4\">#!lsmagic</span></pre><div style=\"text-indent:3em\">List the available magic commands / directives</div></div></div></div>"
     },
     "execution_count": 1,
     "metadata": {}
    }
   ]
  }
 ],
 "metadata": {
  "kernelspec": {
   "display_name": ".NET (C#)",
   "language": "C#",
   "name": ".net-csharp"
  },
  "language_info": {
   "file_extension": ".cs",
   "mimetype": "text/x-csharp",
   "name": "C#",
   "pygments_lexer": "csharp",
   "version": "8.0"
  }
 },
 "nbformat": 4,
 "nbformat_minor": 4
}